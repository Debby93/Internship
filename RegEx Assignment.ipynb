{
 "cells": [
  {
   "cell_type": "code",
   "execution_count": 2,
   "id": "b1c46c6e",
   "metadata": {},
   "outputs": [
    {
     "name": "stdout",
     "output_type": "stream",
     "text": [
      "Python:Exercises::PHP:exercises:\n"
     ]
    }
   ],
   "source": [
    "#Question 1\n",
    "import regex as re\n",
    "sample_text= \"Python Exercises, PHP exercises.\"\n",
    "modified_text= re.sub(r'[ ,.]',':', sample_text)\n",
    "print (modified_text)    "
   ]
  },
  {
   "cell_type": "code",
   "execution_count": 3,
   "id": "f168f89c",
   "metadata": {},
   "outputs": [
    {
     "name": "stdout",
     "output_type": "stream",
     "text": [
      "         SUMMARY\n",
      "0    hello world\n",
      "1           test\n",
      "2  four five six\n"
     ]
    }
   ],
   "source": [
    "#Question 2\n",
    "import pandas as pd\n",
    "import regex as re\n",
    "Dictionary= {'SUMMARY':['hello, world!', 'XXXXX test', '123four, five:; six...']}\n",
    "df=pd.DataFrame(Dictionary)\n",
    "df['SUMMARY']=df['SUMMARY'].str.replace(r'[,!X:;.0-9]', '', regex= True)\n",
    "print (df)"
   ]
  },
  {
   "cell_type": "code",
   "execution_count": 5,
   "id": "c120a7e8",
   "metadata": {},
   "outputs": [
    {
     "name": "stdout",
     "output_type": "stream",
     "text": [
      "['This', 'here', 'richest', 'earth', 'smart', 'intelligent']\n"
     ]
    }
   ],
   "source": [
    "#Question 3\n",
    "text= \"This man here is the richest man on earth, he is smart and intelligent.\"\n",
    "pattern= re.compile(r'\\b\\w{4,}\\b')\n",
    "matches= re.findall(pattern, text)\n",
    "print(matches)      "
   ]
  },
  {
   "cell_type": "code",
   "execution_count": 6,
   "id": "d02c2d7c",
   "metadata": {},
   "outputs": [
    {
     "name": "stdout",
     "output_type": "stream",
     "text": [
      "['This', 'man', 'hers', 'the', 'man', 'earth', 'smart', 'and']\n"
     ]
    }
   ],
   "source": [
    "#Question 4\n",
    "text= \"This man hers is the richest man on earth, he is smart and intelligent.\"\n",
    "pattern= re.compile(r'\\b\\w{3,5}\\b')\n",
    "matches= re.findall(pattern, text)\n",
    "print(matches)"
   ]
  },
  {
   "cell_type": "code",
   "execution_count": 7,
   "id": "8c59d9a5",
   "metadata": {},
   "outputs": [
    {
     "name": "stdout",
     "output_type": "stream",
     "text": [
      "['example.com', 'hr@fliprobo.com', 'github.com', 'Hello Data Science World', 'Data Scientist']\n"
     ]
    }
   ],
   "source": [
    "#Question 5\n",
    "def remove_parentheses(strings):\n",
    "    pattern=re.compile(r'\\(|\\)')\n",
    "    new_strings=[pattern.sub('', s) for s in strings]\n",
    "    return new_strings\n",
    "\n",
    "sample_text= [\"example(.com)\", \"hr@fliprobo(.com)\", \"github(.com)\", \"Hello (Data Science World)\", \"Data (Scientist)\"]\n",
    "new_text=remove_parentheses(sample_text)\n",
    "print(new_text)"
   ]
  },
  {
   "cell_type": "code",
   "execution_count": 10,
   "id": "3becbf82",
   "metadata": {},
   "outputs": [
    {
     "name": "stdout",
     "output_type": "stream",
     "text": [
      "example\n",
      "hr@fliprobo\n",
      "github\n",
      "Hello \n",
      "Data \n"
     ]
    }
   ],
   "source": [
    "#Question 6\n",
    "with open(\"sample.txt\", \"w\") as file:\n",
    "    sample_text= [\"example(.com)\", \"hr@fliprobo(.com)\", \"github(.com)\", \"Hello (Data Science World)\", \"Data (Scientist)\"]\n",
    "    file.write(\"\\n\".join(sample_text))\n",
    "    \n",
    "with open(\"sample.txt\", \"r\") as file:\n",
    "    text=file.read()\n",
    "cleaned_text=re.sub(r'\\([^)]*\\)', '', text)\n",
    "with open (\"sample_text\", \"w\") as file:\n",
    "    file.write(cleaned_text)\n",
    "print(cleaned_text)"
   ]
  },
  {
   "cell_type": "code",
   "execution_count": 13,
   "id": "c47e1bf7",
   "metadata": {},
   "outputs": [
    {
     "name": "stdout",
     "output_type": "stream",
     "text": [
      "['Importance', 'Of', 'Regular', 'Expression', 'In', 'Python']\n"
     ]
    }
   ],
   "source": [
    "#Question 7\n",
    "sample_text= \"ImportanceOfRegularExpressionInPython\"\n",
    "split_text= re.findall(r'[A-Z][a-z]*', sample_text)\n",
    "print(split_text)"
   ]
  },
  {
   "cell_type": "code",
   "execution_count": 16,
   "id": "c80c2833",
   "metadata": {},
   "outputs": [
    {
     "name": "stdout",
     "output_type": "stream",
     "text": [
      "RegularExpression 1IsAn 2ImportantTopic 3InPython\n"
     ]
    }
   ],
   "source": [
    "#Question 8\n",
    "def insert_spaces_btw_numbers(text):\n",
    "    modified_text= re.sub(r'(?<=[a-zA-Z])(\\d)', r' \\1',text)\n",
    "    return modified_text\n",
    "sample_text= \"RegularExpression1IsAn2ImportantTopic3InPython\"\n",
    "outcome= insert_spaces_btw_numbers(sample_text)\n",
    "print(outcome)"
   ]
  },
  {
   "cell_type": "code",
   "execution_count": 18,
   "id": "ac7ef6da",
   "metadata": {},
   "outputs": [
    {
     "name": "stdout",
     "output_type": "stream",
     "text": [
      "RegularExpression 1 IsAn 2 ImportantTopic 3 InPython\n"
     ]
    }
   ],
   "source": [
    "#Question 9\n",
    "def insert_spaces_btw_numbers_and_caps(text):\n",
    "    modified_text= re.sub(r'([A-Z0-9])([A-Z])', r' \\1 \\2', text)\n",
    "    return modified_text\n",
    "sample_text= \"RegularExpression1IsAn2ImportantTopic3InPython\"\n",
    "outcome= insert_spaces_btw_numbers_and_caps(sample_text)\n",
    "print(outcome)"
   ]
  },
  {
   "cell_type": "code",
   "execution_count": 78,
   "id": "7917bf95",
   "metadata": {},
   "outputs": [
    {
     "name": "stdout",
     "output_type": "stream",
     "text": [
      "       Country          Region  Happiness Rank  Happiness Score  \\\n",
      "0  Switzerland  Western Europe               1            7.587   \n",
      "1      Iceland  Western Europe               2            7.561   \n",
      "2      Denmark  Western Europe               3            7.527   \n",
      "3       Norway  Western Europe               4            7.522   \n",
      "4       Canada   North America               5            7.427   \n",
      "\n",
      "   Standard Error  Economy (GDP per Capita)   Family  \\\n",
      "0         0.03411                   1.39651  1.34951   \n",
      "1         0.04884                   1.30232  1.40223   \n",
      "2         0.03328                   1.32548  1.36058   \n",
      "3         0.03880                   1.45900  1.33095   \n",
      "4         0.03553                   1.32629  1.32261   \n",
      "\n",
      "   Health (Life Expectancy)  Freedom  Trust (Government Corruption)  \\\n",
      "0                   0.94143  0.66557                        0.41978   \n",
      "1                   0.94784  0.62877                        0.14145   \n",
      "2                   0.87464  0.64938                        0.48357   \n",
      "3                   0.88521  0.66973                        0.36503   \n",
      "4                   0.90563  0.63297                        0.32957   \n",
      "\n",
      "   Generosity  Dystopia Residual first_five_letters  \n",
      "0     0.29678            2.51738             Switze  \n",
      "1     0.43630            2.70201             Icelan  \n",
      "2     0.34139            2.49204             Denmar  \n",
      "3     0.34699            2.46531             Norway  \n",
      "4     0.45811            2.45176             Canada  \n"
     ]
    }
   ],
   "source": [
    "#Question 10\n",
    "import pandas as pd\n",
    "url= \"https://raw.githubusercontent.com/dsrscientist/DSData/master/happiness_score_dataset.csv\"\n",
    "df = pd.read_csv(url)\n",
    "df['first_five_letters']= df['Country'].str[:6]\n",
    "print(df.head())"
   ]
  },
  {
   "cell_type": "code",
   "execution_count": 81,
   "id": "2d96b8ce",
   "metadata": {},
   "outputs": [
    {
     "name": "stdout",
     "output_type": "stream",
     "text": [
      "'Valid_string123' is a valid string\n",
      "'Not valid#stirng' is not a valid string\n",
      "'123_with_underscore' is a valid string\n",
      "'good_2go' is a valid string\n"
     ]
    }
   ],
   "source": [
    "#Question 11\n",
    "def valid_string(text):\n",
    "    pattern = r'^[a-zA-Z0-9_]+$'\n",
    "    return bool(re.match (pattern, text))\n",
    "trial_strings = [\"Valid_string123\", \"Not valid#stirng\", \"123_with_underscore\", \"good_2go\"]\n",
    "for text in trial_strings:\n",
    "    if valid_string(text):\n",
    "        print(f\"'{text}' is a valid string\")\n",
    "    else:\n",
    "        print(f\"'{text}' is not a valid string\")"
   ]
  },
  {
   "cell_type": "code",
   "execution_count": 39,
   "id": "eb34623b",
   "metadata": {},
   "outputs": [
    {
     "name": "stdout",
     "output_type": "stream",
     "text": [
      "8693\n"
     ]
    }
   ],
   "source": [
    "#Question 12\n",
    "def starting_with_number(text, number):\n",
    "    number_str= str(number)\n",
    "    return text.startswith(number_str)\n",
    "text= \"8693veeIRE\"\n",
    "specific_number=8693\n",
    "if starting_with_number(text, specific_number):\n",
    "     print(specific_number)\n",
    "else:\n",
    "     print(f'\"{text}\" does not start with {specific_number}')"
   ]
  },
  {
   "cell_type": "code",
   "execution_count": 34,
   "id": "0ee01e0d",
   "metadata": {},
   "outputs": [
    {
     "name": "stdout",
     "output_type": "stream",
     "text": [
      "152.143.006.009\n",
      "152.143.6.9\n"
     ]
    }
   ],
   "source": [
    "#Question 13\n",
    "def remove_leading_zeros(ip_address):\n",
    "    octets=ip_address.split('.')\n",
    "    cleaned_octets=[str(int(octet)) for octet in octets]\n",
    "    cleaned_ip='.'.join(cleaned_octets)\n",
    "    return cleaned_ip\n",
    "ip_address= \"152.143.006.009\"\n",
    "cleaned_ip= remove_leading_zeros(ip_address)\n",
    "print(ip_address)\n",
    "print(cleaned_ip)"
   ]
  },
  {
   "cell_type": "code",
   "execution_count": 30,
   "id": "1a3a66a6",
   "metadata": {},
   "outputs": [
    {
     "name": "stdout",
     "output_type": "stream",
     "text": [
      "<regex.Match object; span=(3, 19), match='August 15th 1947'>\n"
     ]
    }
   ],
   "source": [
    "#Question 14\n",
    "with open (\"sample.txt\", \"w\") as file:\n",
    "    sample_text=\"On August 15th 1947 that India was declared independent from British colonialism, and the reins of control were handed over to the leaders of the Country\"\n",
    "    file.write(sample_text)\n",
    "with open(\"sample.txt\", \"r\") as file:\n",
    "    text=file.read()\n",
    "pattern= r'\\b(?:January|February|March|April|May|June|July|August|September|October|November|December) \\d{1,2}(?:st|nd|rd|th) \\d{4}\\b'\n",
    "match= re.search(pattern,text)\n",
    "print(match)"
   ]
  },
  {
   "cell_type": "code",
   "execution_count": 31,
   "id": "35bf1aff",
   "metadata": {},
   "outputs": [
    {
     "name": "stdout",
     "output_type": "stream",
     "text": [
      "['fox', 'dog']\n"
     ]
    }
   ],
   "source": [
    "# Question 15\n",
    "def search_literals(text, searched_words):\n",
    "    found_words=[word for word in searched_words if word in text]\n",
    "    return found_words\n",
    "text= \"The quick brown fox jumps over the lazy dog.\"\n",
    "searched_words=['fox','dog', 'horse']\n",
    "found_words= search_literals(text, searched_words)\n",
    "print(found_words)"
   ]
  },
  {
   "cell_type": "code",
   "execution_count": 56,
   "id": "abfcc177",
   "metadata": {},
   "outputs": [
    {
     "name": "stdout",
     "output_type": "stream",
     "text": [
      "[('fox', 16)]\n"
     ]
    }
   ],
   "source": [
    "#Question 16\n",
    "def search_and_find_location(text,pattern):\n",
    "    matches=list(re.finditer(pattern, text))\n",
    "    if matches:\n",
    "        locations=[(match.group(), match.start()) for match in matches]\n",
    "        return locations\n",
    "    else:\n",
    "        return None\n",
    "sample_text= \"The quick brown fox jumps over the lazy dog.\"\n",
    "searched_word=\"fox\"\n",
    "locations= search_and_find_location(sample_text, searched_word)\n",
    "print(locations)"
   ]
  },
  {
   "cell_type": "code",
   "execution_count": 42,
   "id": "b92205c7",
   "metadata": {},
   "outputs": [
    {
     "name": "stdout",
     "output_type": "stream",
     "text": [
      "[7, 22, 36]\n"
     ]
    }
   ],
   "source": [
    "#Question 17\n",
    "def find_substrings(text,pattern):\n",
    "    occurrences=[match.start()for match in re.finditer(pattern,text)]\n",
    "    return occurrences\n",
    "sample_text= 'Python exercises, PHP exercises, C# exercises'\n",
    "pattern = 'exercises'\n",
    "occurrences= find_substrings(sample_text, pattern)\n",
    "print(occurrences)"
   ]
  },
  {
   "cell_type": "code",
   "execution_count": 46,
   "id": "4302a165",
   "metadata": {},
   "outputs": [
    {
     "name": "stdout",
     "output_type": "stream",
     "text": [
      "Occurrence of \"exercises\" in the text:\n",
      "Occurrence 1:found at position 7\n",
      "Occurrence 2:found at position 22\n",
      "Occurrence 3:found at position 36\n"
     ]
    }
   ],
   "source": [
    "#Question 18\n",
    "def find_occurrences_and_positions(text, substring):\n",
    "    positions=[match.start()for match in re.finditer(substring, text)]\n",
    "    return positions, len(positions)\n",
    "sample_text= 'Python exercises, PHP exercises, C# exercises'\n",
    "substring = 'exercises'\n",
    "positions,occurrence=find_occurrences_and_positions(sample_text, substring)\n",
    "if occurrence>0:\n",
    "    print(f'Occurrence of \"{substring}\" in the text:')\n",
    "    for i, position in enumerate (positions, start=1):\n",
    "        print(f'Occurrence {i}:found at position {position}')\n",
    "else:\n",
    "    print(f'\"{substring}\" not found in the text')"
   ]
  },
  {
   "cell_type": "code",
   "execution_count": 50,
   "id": "4be24b47",
   "metadata": {},
   "outputs": [
    {
     "name": "stdout",
     "output_type": "stream",
     "text": [
      "31-10-2023\n"
     ]
    }
   ],
   "source": [
    "#Question 19\n",
    "def convert_date_format(input_date):\n",
    "    pattern= r'(\\d{4})-(\\d{2})-(\\d{2})'\n",
    "    converted_date = re.sub(pattern, r'\\3-\\2-\\1', input_date)\n",
    "    return converted_date\n",
    "input_date=\"2023-10-31\"\n",
    "output_date= convert_date_format(input_date)\n",
    "print(output_date)"
   ]
  },
  {
   "cell_type": "code",
   "execution_count": 54,
   "id": "9ba5c15a",
   "metadata": {},
   "outputs": [
    {
     "name": "stdout",
     "output_type": "stream",
     "text": [
      "['01.12', '145.8', '3.01', '27.25', '0.25']\n"
     ]
    }
   ],
   "source": [
    "#Question 20\n",
    "def decimal_numbers_with_precisions(text):\n",
    "    pattern= re.compile(r'\\b\\d+\\.\\d{1,2}\\b')\n",
    "    decimal_number=re.findall(pattern, text)\n",
    "    return decimal_number\n",
    "sample_text= \"01.12 0132.123 2.31875 145.8 3.01 27.25 0.25\"\n",
    "decimal_number=decimal_numbers_with_precisions(sample_text)\n",
    "print(decimal_number)"
   ]
  },
  {
   "cell_type": "code",
   "execution_count": 51,
   "id": "0b7573bf",
   "metadata": {},
   "outputs": [
    {
     "name": "stdout",
     "output_type": "stream",
     "text": [
      "[('520', 11), ('87', 26)]\n"
     ]
    }
   ],
   "source": [
    "#Question 21\n",
    "def seperate_numbers_and_position(text):\n",
    "    pattern=r'\\b\\d+\\,\\d+|\\d+\\b'\n",
    "    number_position=[(match.group(), match.start())for match in re.finditer(pattern,text)]\n",
    "    return number_position\n",
    "sample_text= \"Jack takes 520 kilograms, 87% of which can be recycled.\"\n",
    "number_position=seperate_numbers_and_position(sample_text)\n",
    "print(number_position)\n"
   ]
  },
  {
   "cell_type": "code",
   "execution_count": 59,
   "id": "eebbaf2c",
   "metadata": {},
   "outputs": [
    {
     "name": "stdout",
     "output_type": "stream",
     "text": [
      "950\n"
     ]
    }
   ],
   "source": [
    "#Question 22\n",
    "def extract_largest_numeric_value(text):\n",
    "    pattern=r'\\d+'\n",
    "    numeric_values=[int(match)for match in re.findall(pattern,text)]\n",
    "    if numeric_values:\n",
    "        maximum_value=max(numeric_values)\n",
    "        return maximum_value\n",
    "    else:\n",
    "        return None\n",
    "sample_text=\"My marks in each semester are: 947, 896, 926, 524, 734, 950, 642\"\n",
    "maximum_value= extract_largest_numeric_value(sample_text)\n",
    "print(maximum_value)"
   ]
  },
  {
   "cell_type": "code",
   "execution_count": 62,
   "id": "16f1a00c",
   "metadata": {},
   "outputs": [
    {
     "name": "stdout",
     "output_type": "stream",
     "text": [
      "Regular Expression Is An Important Topic In Python\n"
     ]
    }
   ],
   "source": [
    "#Question 23\n",
    "def insert_spaces_btw_caps_words(text):\n",
    "    spaced_text= re.sub(r'([a-z])([A-Z])', r'\\1 \\2', text)\n",
    "    return spaced_text\n",
    "sample_text=\"RegularExpressionIsAnImportantTopicInPython\"\n",
    "spaced_text= insert_spaces_btw_caps_words(sample_text)\n",
    "print(spaced_text)"
   ]
  },
  {
   "cell_type": "code",
   "execution_count": 63,
   "id": "4dfeb0d2",
   "metadata": {},
   "outputs": [
    {
     "name": "stdout",
     "output_type": "stream",
     "text": [
      "['Regular', 'Expression', 'Important', 'Topic', 'Python']\n"
     ]
    }
   ],
   "source": [
    "#Question 24\n",
    "pattern= r'[A-Z][a-z]+'\n",
    "text= \"Regular Expression is an Important Topic in Python\"\n",
    "matches=re.findall(pattern, text)\n",
    "print(matches)"
   ]
  },
  {
   "cell_type": "code",
   "execution_count": 65,
   "id": "ab628697",
   "metadata": {},
   "outputs": [
    {
     "name": "stdout",
     "output_type": "stream",
     "text": [
      "Hello hello world\n"
     ]
    }
   ],
   "source": [
    "#Question 25\n",
    "def remove_continous_duplicate_words(text):\n",
    "    cleaned_text= re.sub(r'\\b(\\w+)(?:\\W+\\1\\b)+', r'\\1', text)\n",
    "    return cleaned_text\n",
    "sample_text= \"Hello hello world world\"\n",
    "cleaned_text= remove_continous_duplicate_words(sample_text)\n",
    "print(cleaned_text)"
   ]
  },
  {
   "cell_type": "code",
   "execution_count": 68,
   "id": "1102ac7b",
   "metadata": {},
   "outputs": [
    {
     "name": "stdout",
     "output_type": "stream",
     "text": [
      "'Hello2023' ends with alphanumeric character.\n",
      "'2023Great' ends with alphanumeric character.\n",
      "'It is a trial' ends with alphanumeric character.\n",
      "'123' ends with alphanumeric character.\n",
      "'Best decision_made_come24' ends with alphanumeric character.\n"
     ]
    }
   ],
   "source": [
    "#Question 26\n",
    "def string_ending_with_alphanumeric(text):\n",
    "    pattern=r'^.*[a-zA-Z0-9]$'\n",
    "    return bool(re.match(pattern,text))\n",
    "trial_strings= [\"Hello2023\", \"2023Great\", \"It is a trial\", \"123\", \"Best decision_made_come24\"]\n",
    "for text in trial_strings:\n",
    "    if string_ending_with_alphanumeric(text):\n",
    "        print(f\"'{text}' ends with alphanumeric character.\")\n",
    "    else:\n",
    "        print(f\"'{text}' does not end with alphanumeric character.\")"
   ]
  },
  {
   "cell_type": "code",
   "execution_count": 70,
   "id": "b697b5e8",
   "metadata": {},
   "outputs": [
    {
     "name": "stdout",
     "output_type": "stream",
     "text": [
      "['#Doltiwal', '#xyzabc', '#Demonetization']\n"
     ]
    }
   ],
   "source": [
    "#Question 27\n",
    "def extract_hashtags(text):\n",
    "    hashtags=re.findall(r'#\\w+', text)\n",
    "    return hashtags\n",
    "sample_text = \"\"\"RT @kapil_kausik: #Doltiwal I mean #xyzabc is \"hurt\" by #Demonetization as the same has rendered USELESS <ed><U+00A0><U+00BD><ed><U+00B1><U+0089> \"acquired funds\" No wo\"\"\"\n",
    "hashtags= extract_hashtags(sample_text)\n",
    "print(hashtags)"
   ]
  },
  {
   "cell_type": "code",
   "execution_count": 71,
   "id": "ab25bc5d",
   "metadata": {},
   "outputs": [
    {
     "name": "stdout",
     "output_type": "stream",
     "text": [
      "@Jags123456 Bharat band on 28??<ed><ed>Those who  are protesting #demonetization  are all different party leaders\n"
     ]
    }
   ],
   "source": [
    "#Question 28\n",
    "def remove_strange_symbols(text):\n",
    "    pattern= r'<U\\+[0-9A-Za-z]+>'\n",
    "    cleaned_text= re.sub(pattern,'', text)\n",
    "    return cleaned_text\n",
    "sample_text= \"@Jags123456 Bharat band on 28??<ed><U+00A0><U+00BD><ed><U+00B8><U+0082>Those who  are protesting #demonetization  are all different party leaders\"\n",
    "cleaned_text= remove_strange_symbols(sample_text)\n",
    "print(cleaned_text)"
   ]
  },
  {
   "cell_type": "code",
   "execution_count": 84,
   "id": "d1cac746",
   "metadata": {},
   "outputs": [
    {
     "name": "stdout",
     "output_type": "stream",
     "text": [
      "['12-09-1992', '15-12-1999']\n"
     ]
    }
   ],
   "source": [
    "#Question 29\n",
    "sample_text= \"Ron was born on 12-09-1992 and he was admitted to school 15-12-1999.\"\n",
    "file_path=\"sample.txt\"\n",
    "with open(file_path,'w') as file:\n",
    "    file.write(sample_text)\n",
    "\n",
    "def extract_dates_from_file(file_path):\n",
    "    try:\n",
    "        with open(file_path,'r') as file:\n",
    "            text = file.read()\n",
    "            pattern = r'\\d{2}-\\d{2}-\\d{4}'\n",
    "            dates = re.findall(pattern, text)\n",
    "            return dates\n",
    "    except FileNotFoundError:\n",
    "        print(f\"file '{file_path}' not found.\")\n",
    "        return[]\n",
    "file_path = \"sample.txt\"\n",
    "extracted_dates = extract_dates_from_file(file_path)\n",
    "print(extracted_dates)"
   ]
  },
  {
   "cell_type": "code",
   "execution_count": 75,
   "id": "c52f3290",
   "metadata": {},
   "outputs": [
    {
     "name": "stdout",
     "output_type": "stream",
     "text": [
      " following example creates  ArrayList  a capacity   elements. 4 elements   added   ArrayList   ArrayList  trimmed accordingly.\n"
     ]
    }
   ],
   "source": [
    "#Question 30\n",
    "def remove_words_by_length(text):\n",
    "    pattern = re.compile(r'\\b\\w{2,4}\\b')\n",
    "    cleaned_text = re.sub(pattern,'', text)\n",
    "    return cleaned_text\n",
    "sample_text= \"The following example creates an ArrayList with a capacity of 50 elements. 4 elements are then added to the ArrayList and the ArrayList is trimmed accordingly.\"\n",
    "cleaned_text= remove_words_by_length(sample_text)\n",
    "print(cleaned_text)"
   ]
  },
  {
   "cell_type": "code",
   "execution_count": null,
   "id": "8e21be67",
   "metadata": {},
   "outputs": [],
   "source": []
  }
 ],
 "metadata": {
  "kernelspec": {
   "display_name": "Python 3 (ipykernel)",
   "language": "python",
   "name": "python3"
  },
  "language_info": {
   "codemirror_mode": {
    "name": "ipython",
    "version": 3
   },
   "file_extension": ".py",
   "mimetype": "text/x-python",
   "name": "python",
   "nbconvert_exporter": "python",
   "pygments_lexer": "ipython3",
   "version": "3.10.9"
  }
 },
 "nbformat": 4,
 "nbformat_minor": 5
}
